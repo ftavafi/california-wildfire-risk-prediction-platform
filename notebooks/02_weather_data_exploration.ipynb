{
  "cells": [
    {
      "cell_type": "markdown",
      "metadata": {},
      "source": [
        "# California Weather Data Exploration\n",
        "\n",
        "**Dataset**: NOAA GHCN Daily Weather Data (California)  \n",
        "**Date Range**: 2020 - 2025  \n",
        "**Source**: NOAA Climate Data Online API\n",
        "\n",
        "**Objective**: \n",
        "- Explore California weather station data\n",
        "- Analyze temperature and precipitation patterns\n",
        "- Understand weather conditions during January 2025 fires\n",
        "- Identify key weather features for fire prediction model\n"
      ]
    },
    {
      "cell_type": "code",
      "execution_count": null,
      "metadata": {},
      "outputs": [],
      "source": [
        "# Import libraries\n",
        "import pandas as pd\n",
        "import matplotlib.pyplot as plt\n",
        "import seaborn as sns\n",
        "from pathlib import Path\n",
        "import warnings\n",
        "warnings.filterwarnings('ignore')\n",
        "\n",
        "# Set display options\n",
        "pd.set_option('display.max_columns', None)\n",
        "pd.set_option('display.max_rows', 100)\n",
        "\n",
        "# Set plotting style\n",
        "sns.set_style('whitegrid')\n",
        "plt.rcParams['figure.figsize'] = (14, 6)\n",
        "\n",
        "print(\"✅ Libraries imported successfully!\")\n"
      ]
    },
    {
      "cell_type": "markdown",
      "metadata": {},
      "source": [
        "## 1. Load Weather Data\n"
      ]
    },
    {
      "cell_type": "code",
      "execution_count": null,
      "metadata": {},
      "outputs": [],
      "source": [
        "# Load combined weather data\n",
        "weather_file = Path('../data/raw/weather/california_weather_2020_2025_combined.csv')\n",
        "stations_file = Path('../data/raw/weather/california_weather_stations.csv')\n",
        "\n",
        "print(f\"Loading weather data from: {weather_file}\")\n",
        "print(f\"File exists: {weather_file.exists()}\")\n",
        "\n",
        "weather_df = pd.read_csv(weather_file)\n",
        "print(f\"\\n✅ Loaded {len(weather_df):,} weather records!\")\n",
        "\n",
        "# Load station metadata\n",
        "stations_df = pd.read_csv(stations_file)\n",
        "print(f\"✅ Loaded {len(stations_df):,} weather stations!\")\n",
        "\n",
        "print(\"\\nFirst 5 weather records:\")\n",
        "weather_df.head()\n"
      ]
    },
    {
      "cell_type": "markdown",
      "metadata": {},
      "source": [
        "## 2. Dataset Overview\n"
      ]
    },
    {
      "cell_type": "code",
      "execution_count": null,
      "metadata": {},
      "outputs": [],
      "source": [
        "# Dataset info\n",
        "print(\"=\" * 80)\n",
        "print(\"WEATHER DATASET SUMMARY\")\n",
        "print(\"=\" * 80)\n",
        "print(f\"\\nTotal records: {len(weather_df):,}\")\n",
        "print(f\"Columns: {weather_df.shape[1]}\")\n",
        "print(f\"\\nColumn names: {weather_df.columns.tolist()}\")\n",
        "\n",
        "# Data types\n",
        "print(\"\\n\\nData types and missing values:\")\n",
        "info_df = pd.DataFrame({\n",
        "    'Column': weather_df.columns,\n",
        "    'Data Type': weather_df.dtypes,\n",
        "    'Non-Null': weather_df.count(),\n",
        "    'Null': weather_df.isnull().sum(),\n",
        "    'Null %': (weather_df.isnull().sum() / len(weather_df) * 100).round(2)\n",
        "})\n",
        "info_df\n"
      ]
    },
    {
      "cell_type": "markdown",
      "metadata": {},
      "source": [
        "## 3. Weather Data Types & Coverage\n"
      ]
    },
    {
      "cell_type": "code",
      "execution_count": null,
      "metadata": {},
      "outputs": [],
      "source": [
        "# Parse dates\n",
        "weather_df['date'] = pd.to_datetime(weather_df['date'])\n",
        "\n",
        "# Weather data types\n",
        "print(\"Weather Data Types Available:\")\n",
        "datatype_counts = weather_df['datatype'].value_counts()\n",
        "print(datatype_counts)\n",
        "\n",
        "# Plot\n",
        "plt.figure(figsize=(10, 5))\n",
        "datatype_counts.plot(kind='bar', color='#4A90E2', alpha=0.7)\n",
        "plt.title('Weather Data Types - Record Count', fontsize=14, fontweight='bold')\n",
        "plt.xlabel('Data Type')\n",
        "plt.ylabel('Number of Records')\n",
        "plt.xticks(rotation=0)\n",
        "plt.grid(True, axis='y', alpha=0.3)\n",
        "plt.tight_layout()\n",
        "plt.show()\n",
        "\n",
        "# Date range per data type\n",
        "print(\"\\n\\nDate Range by Data Type:\")\n",
        "for dtype in weather_df['datatype'].unique():\n",
        "    dtype_data = weather_df[weather_df['datatype'] == dtype]\n",
        "    print(f\"{dtype}: {dtype_data['date'].min().date()} to {dtype_data['date'].max().date()}\")\n"
      ]
    },
    {
      "cell_type": "markdown",
      "metadata": {},
      "source": [
        "## 4. January 2025 Weather Analysis 🔥\n"
      ]
    },
    {
      "cell_type": "code",
      "execution_count": null,
      "metadata": {},
      "outputs": [],
      "source": [
        "# Filter January 2025 weather (when Palisades & Eaton fires occurred)\n",
        "jan_2025 = weather_df[(weather_df['date'] >= '2025-01-01') & (weather_df['date'] <= '2025-01-31')]\n",
        "print(f\"January 2025 weather records: {len(jan_2025):,}\")\n",
        "\n",
        "# Summary by data type\n",
        "print(\"\\nJanuary 2025 Weather Summary:\")\n",
        "for dtype in jan_2025['datatype'].unique():\n",
        "    jan_dtype = jan_2025[jan_2025['datatype'] == dtype]\n",
        "    print(f\"\\n{dtype}:\")\n",
        "    print(f\"  Records: {len(jan_dtype)}\")\n",
        "    print(f\"  Mean value: {jan_dtype['value'].mean():.2f}\")\n",
        "    print(f\"  Min value: {jan_dtype['value'].min():.2f}\")\n",
        "    print(f\"  Max value: {jan_dtype['value'].max():.2f}\")\n",
        "    \n",
        "# Show actual January 2025 data\n",
        "print(\"\\n\\nSample of January 2025 data:\")\n",
        "jan_2025.head(10)\n"
      ]
    },
    {
      "cell_type": "markdown",
      "metadata": {},
      "source": [
        "## 5. Summary for ML Model\n"
      ]
    },
    {
      "cell_type": "code",
      "execution_count": null,
      "metadata": {},
      "outputs": [],
      "source": [
        "print(\"=\" * 80)\n",
        "print(\"WEATHER DATA SUMMARY FOR ML MODEL\")\n",
        "print(\"=\" * 80)\n",
        "\n",
        "print(f\"\\n📊 Dataset Size:\")\n",
        "print(f\"   Total weather records: {len(weather_df):,}\")\n",
        "print(f\"   Date range: {weather_df['date'].min().date()} to {weather_df['date'].max().date()}\")\n",
        "print(f\"   Years covered: {weather_df['date'].dt.year.nunique()}\")\n",
        "\n",
        "print(f\"\\n🌡️ Weather Variables:\")\n",
        "for dtype in weather_df['datatype'].unique():\n",
        "    count = len(weather_df[weather_df['datatype'] == dtype])\n",
        "    print(f\"   {dtype}: {count:,} records\")\n",
        "\n",
        "print(f\"\\n📍 Geographic Coverage:\")\n",
        "print(f\"   Unique weather stations: {weather_df['station'].nunique():,}\")\n",
        "print(f\"   Station metadata available: {len(stations_df):,} stations\")\n",
        "\n",
        "print(f\"\\n🔥 January 2025 Fire Period:\")\n",
        "print(f\"   Weather records for Jan 2025: {len(jan_2025):,}\")\n",
        "print(f\"   Covers Palisades & Eaton fires: ✅\")\n",
        "\n",
        "print(f\"\\n✅ Features Ready for ML Model:\")\n",
        "print(f\"   ✅ Max Temperature (TMAX)\")\n",
        "print(f\"   ✅ Min Temperature (TMIN)\")\n",
        "print(f\"   ✅ Precipitation (PRCP)\")\n",
        "print(f\"   ⏳ Wind data (limited availability)\")\n",
        "\n",
        "print(f\"\\n📝 Next Steps:\")\n",
        "print(f\"   1. Match weather stations to fire locations\")\n",
        "print(f\"   2. Calculate derived features (temp range, dry days, etc.)\")\n",
        "print(f\"   3. Aggregate weather data to daily/weekly summaries\")\n",
        "\n",
        "print(\"=\" * 80)\n"
      ]
    }
  ],
  "metadata": {
    "language_info": {
      "name": "python"
    }
  },
  "nbformat": 4,
  "nbformat_minor": 2
}
