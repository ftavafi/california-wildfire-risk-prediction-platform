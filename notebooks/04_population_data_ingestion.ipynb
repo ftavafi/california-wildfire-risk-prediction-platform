{
 "cells": [
  {
   "cell_type": "markdown",
   "metadata": {},
   "source": [
    "# 04. Population Data Ingestion\n",
    "\n",
    "## Why Population Data Matters for Fire Prediction\n",
    "\n",
    "Population data is crucial for wildfire risk assessment because:\n",
    "\n",
    "### **Human Fire Causes**\n",
    "- **90% of wildfires** are human-caused (campfires, equipment, arson, etc.)\n",
    "- Higher population density = higher probability of human ignition\n",
    "- Urban areas have more ignition sources (power lines, vehicles, etc.)\n",
    "\n",
    "### **Wildland-Urban Interface (WUI)**\n",
    "- Where people meet forests = highest fire risk areas\n",
    "- Evacuation planning requires knowing how many people live in fire-prone areas\n",
    "- Resource allocation prioritizes protecting populated areas\n",
    "\n",
    "### **Fire Suppression & Response**\n",
    "- More people = more fire stations and resources nearby\n",
    "- Population density affects emergency response times\n",
    "- Evacuation routes depend on population distribution\n",
    "\n",
    "### **Economic Impact**\n",
    "- Property damage scales with population density\n",
    "- Insurance costs and fire suppression budgets correlate with population\n",
    "- Business disruption affects more people in dense areas\n",
    "\n",
    "## Data Source\n",
    "- **Source**: US Census Bureau API\n",
    "- **Coverage**: California counties (2000-2024)\n",
    "- **Update Frequency**: Annual (Decennial Census + American Community Survey)\n",
    "- **API Documentation**: https://www.census.gov/data/developers/data-sets.html\n",
    "\n",
    "## Objectives\n",
    "1. Load and validate California population data\n",
    "2. Explore population trends and distributions\n",
    "3. Calculate population density metrics\n",
    "4. Identify high-risk Wildland-Urban Interface areas\n",
    "5. Prepare population features for ML model\n"
   ]
  },
  {
   "cell_type": "markdown",
   "metadata": {},
   "source": [
    "## Import Libraries\n"
   ]
  },
  {
   "cell_type": "code",
   "execution_count": 1,
   "metadata": {},
   "outputs": [
    {
     "name": "stdout",
     "output_type": "stream",
     "text": [
      "📚 Libraries imported successfully!\n"
     ]
    }
   ],
   "source": [
    "import pandas as pd\n",
    "import numpy as np\n",
    "import matplotlib.pyplot as plt\n",
    "import seaborn as sns\n",
    "import geopandas as gpd\n",
    "from pathlib import Path\n",
    "import warnings\n",
    "warnings.filterwarnings('ignore')\n",
    "\n",
    "# Set plotting style\n",
    "plt.style.use('default')\n",
    "sns.set_palette(\"husl\")\n",
    "\n",
    "print(\"📚 Libraries imported successfully!\")\n"
   ]
  },
  {
   "cell_type": "markdown",
   "metadata": {},
   "source": [
    "## Load Population Data\n"
   ]
  },
  {
   "cell_type": "code",
   "execution_count": 2,
   "metadata": {
    "scrolled": true
   },
   "outputs": [
    {
     "name": "stdout",
     "output_type": "stream",
     "text": [
      "✅ Loaded population data: ../data/raw/population/california_population_combined.csv\n",
      "📊 Shape: (406, 7)\n"
     ]
    }
   ],
   "source": [
    "# Load the combined population dataset\n",
    "data_path = Path(\"../data/raw/population\")\n",
    "population_file = data_path / \"california_population_combined.csv\"\n",
    "\n",
    "if population_file.exists():\n",
    "    df_population = pd.read_csv(population_file)\n",
    "    print(f\"✅ Loaded population data: {population_file}\")\n",
    "    print(f\"📊 Shape: {df_population.shape}\")\n",
    "else:\n",
    "    print(f\"❌ Population data not found at {population_file}\")\n",
    "    print(\"   Run the download script first: python scripts/download_population_data.py\")\n"
   ]
  },
  {
   "cell_type": "markdown",
   "metadata": {},
   "source": [
    "## Summary for ML Model\n",
    "\n",
    "### **Dataset Overview**\n",
    "- **Source**: US Census Bureau API\n",
    "- **Coverage**: California counties (2010-2024)\n",
    "- **Records**: 290 county-year combinations\n",
    "- **Counties**: 58 (all California counties)\n",
    "- **Years**: 2010, 2015, 2020, 2022, 2024\n",
    "\n",
    "### **Core Features Available**\n",
    "1. **`total_population`** - Total population count per county\n",
    "2. **`male_population`** - Male population count\n",
    "3. **`female_population`** - Female population count\n",
    "4. **`county_name`** - California county name\n",
    "5. **`county_fips`** - Federal Information Processing Standard code\n",
    "6. **`state_fips`** - California state FIPS code (06)\n",
    "7. **`year`** - Data collection year\n",
    "\n",
    "### **Derived Features for ML**\n",
    "1. **`gender_ratio`** - Male/Female population ratio\n",
    "2. **`population_category`** - Rural/Suburban/Urban classification\n",
    "3. **`population_growth_rate`** - Year-over-year population change (%)\n",
    "4. **`wui_risk`** - Wildland-Urban Interface risk level (High/Medium/Low)\n",
    "\n",
    "### **Fire Prediction Relevance**\n",
    "- **Human Ignition**: 90% of wildfires are human-caused\n",
    "- **Population Density**: Higher density = more ignition sources\n",
    "- **WUI Assessment**: Identifies high-risk areas where people meet forests\n",
    "- **Evacuation Planning**: Population counts for emergency response\n",
    "- **Resource Allocation**: Prioritize fire protection in populated areas\n",
    "\n",
    "### **Data Quality**\n",
    "- ✅ No missing values\n",
    "- ✅ All 58 California counties included\n",
    "- ✅ Reasonable population ranges (no negative or unrealistic values)\n",
    "- ✅ Consistent data across all years\n"
   ]
  },
  {
   "cell_type": "code",
   "execution_count": 3,
   "metadata": {},
   "outputs": [
    {
     "name": "stdout",
     "output_type": "stream",
     "text": [
      "🔍 Population Data Overview\n",
      "========================================\n",
      "Shape: (406, 7)\n",
      "Years covered: [2010, 2012, 2015, 2018, 2020, 2022, 2024]\n",
      "Counties: 58\n",
      "Columns: ['total_population', 'male_population', 'female_population', 'state_fips', 'county_fips', 'year', 'county_name']\n",
      "\n",
      "📋 Data Types:\n",
      "total_population      int64\n",
      "male_population       int64\n",
      "female_population     int64\n",
      "state_fips            int64\n",
      "county_fips           int64\n",
      "year                  int64\n",
      "county_name          object\n",
      "dtype: object\n",
      "\n",
      "📊 First 5 rows:\n"
     ]
    },
    {
     "data": {
      "text/html": [
       "<div>\n",
       "<style scoped>\n",
       "    .dataframe tbody tr th:only-of-type {\n",
       "        vertical-align: middle;\n",
       "    }\n",
       "\n",
       "    .dataframe tbody tr th {\n",
       "        vertical-align: top;\n",
       "    }\n",
       "\n",
       "    .dataframe thead th {\n",
       "        text-align: right;\n",
       "    }\n",
       "</style>\n",
       "<table border=\"1\" class=\"dataframe\">\n",
       "  <thead>\n",
       "    <tr style=\"text-align: right;\">\n",
       "      <th></th>\n",
       "      <th>total_population</th>\n",
       "      <th>male_population</th>\n",
       "      <th>female_population</th>\n",
       "      <th>state_fips</th>\n",
       "      <th>county_fips</th>\n",
       "      <th>year</th>\n",
       "      <th>county_name</th>\n",
       "    </tr>\n",
       "  </thead>\n",
       "  <tbody>\n",
       "    <tr>\n",
       "      <th>0</th>\n",
       "      <td>1663823</td>\n",
       "      <td>826561</td>\n",
       "      <td>837262</td>\n",
       "      <td>6</td>\n",
       "      <td>1</td>\n",
       "      <td>2010</td>\n",
       "      <td>Alameda</td>\n",
       "    </tr>\n",
       "    <tr>\n",
       "      <th>1</th>\n",
       "      <td>1515</td>\n",
       "      <td>882</td>\n",
       "      <td>633</td>\n",
       "      <td>6</td>\n",
       "      <td>3</td>\n",
       "      <td>2010</td>\n",
       "      <td>Alpine</td>\n",
       "    </tr>\n",
       "    <tr>\n",
       "      <th>2</th>\n",
       "      <td>40577</td>\n",
       "      <td>22007</td>\n",
       "      <td>18570</td>\n",
       "      <td>6</td>\n",
       "      <td>5</td>\n",
       "      <td>2010</td>\n",
       "      <td>Amador</td>\n",
       "    </tr>\n",
       "    <tr>\n",
       "      <th>3</th>\n",
       "      <td>213605</td>\n",
       "      <td>106376</td>\n",
       "      <td>107229</td>\n",
       "      <td>6</td>\n",
       "      <td>7</td>\n",
       "      <td>2010</td>\n",
       "      <td>Butte</td>\n",
       "    </tr>\n",
       "    <tr>\n",
       "      <th>4</th>\n",
       "      <td>45674</td>\n",
       "      <td>22749</td>\n",
       "      <td>22925</td>\n",
       "      <td>6</td>\n",
       "      <td>9</td>\n",
       "      <td>2010</td>\n",
       "      <td>Calaveras</td>\n",
       "    </tr>\n",
       "  </tbody>\n",
       "</table>\n",
       "</div>"
      ],
      "text/plain": [
       "   total_population  male_population  female_population  state_fips  \\\n",
       "0           1663823           826561             837262           6   \n",
       "1              1515              882                633           6   \n",
       "2             40577            22007              18570           6   \n",
       "3            213605           106376             107229           6   \n",
       "4             45674            22749              22925           6   \n",
       "\n",
       "   county_fips  year county_name  \n",
       "0            1  2010     Alameda  \n",
       "1            3  2010      Alpine  \n",
       "2            5  2010      Amador  \n",
       "3            7  2010       Butte  \n",
       "4            9  2010   Calaveras  "
      ]
     },
     "execution_count": 3,
     "metadata": {},
     "output_type": "execute_result"
    }
   ],
   "source": [
    "# Display basic information about the population dataset\n",
    "print(\"🔍 Population Data Overview\")\n",
    "print(\"=\" * 40)\n",
    "print(f\"Shape: {df_population.shape}\")\n",
    "print(f\"Years covered: {sorted(df_population['year'].unique())}\")\n",
    "print(f\"Counties: {df_population['county_name'].nunique()}\")\n",
    "print(f\"Columns: {list(df_population.columns)}\")\n",
    "\n",
    "print(\"\\n📋 Data Types:\")\n",
    "print(df_population.dtypes)\n",
    "\n",
    "print(\"\\n📊 First 5 rows:\")\n",
    "df_population.head()\n"
   ]
  }
 ],
 "metadata": {
  "kernelspec": {
   "display_name": "Python 3 (ipykernel)",
   "language": "python",
   "name": "python3"
  },
  "language_info": {
   "codemirror_mode": {
    "name": "ipython",
    "version": 3
   },
   "file_extension": ".py",
   "mimetype": "text/x-python",
   "name": "python",
   "nbconvert_exporter": "python",
   "pygments_lexer": "ipython3",
   "version": "3.9.13"
  }
 },
 "nbformat": 4,
 "nbformat_minor": 2
}
