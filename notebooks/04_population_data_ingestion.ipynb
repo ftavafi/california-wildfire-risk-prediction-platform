{
  "cells": [
    {
      "cell_type": "markdown",
      "metadata": {},
      "source": [
        "# 04. Population Data Ingestion\n",
        "\n",
        "## Why Population Data Matters for Fire Prediction\n",
        "\n",
        "Population data is crucial for wildfire risk assessment because:\n",
        "\n",
        "### **Human Fire Causes**\n",
        "- **90% of wildfires** are human-caused (campfires, equipment, arson, etc.)\n",
        "- Higher population density = higher probability of human ignition\n",
        "- Urban areas have more ignition sources (power lines, vehicles, etc.)\n",
        "\n",
        "### **Wildland-Urban Interface (WUI)**\n",
        "- Where people meet forests = highest fire risk areas\n",
        "- Evacuation planning requires knowing how many people live in fire-prone areas\n",
        "- Resource allocation prioritizes protecting populated areas\n",
        "\n",
        "### **Fire Suppression & Response**\n",
        "- More people = more fire stations and resources nearby\n",
        "- Population density affects emergency response times\n",
        "- Evacuation routes depend on population distribution\n",
        "\n",
        "### **Economic Impact**\n",
        "- Property damage scales with population density\n",
        "- Insurance costs and fire suppression budgets correlate with population\n",
        "- Business disruption affects more people in dense areas\n",
        "\n",
        "## Data Source\n",
        "- **Source**: US Census Bureau API\n",
        "- **Coverage**: California counties (2000-2024)\n",
        "- **Update Frequency**: Annual (Decennial Census + American Community Survey)\n",
        "- **API Documentation**: https://www.census.gov/data/developers/data-sets.html\n",
        "\n",
        "## Objectives\n",
        "1. Load and validate California population data\n",
        "2. Explore population trends and distributions\n",
        "3. Calculate population density metrics\n",
        "4. Identify high-risk Wildland-Urban Interface areas\n",
        "5. Prepare population features for ML model\n"
      ]
    },
    {
      "cell_type": "markdown",
      "metadata": {},
      "source": [
        "## Import Libraries\n"
      ]
    },
    {
      "cell_type": "code",
      "execution_count": null,
      "metadata": {},
      "outputs": [],
      "source": [
        "import pandas as pd\n",
        "import numpy as np\n",
        "import matplotlib.pyplot as plt\n",
        "import seaborn as sns\n",
        "import geopandas as gpd\n",
        "from pathlib import Path\n",
        "import warnings\n",
        "warnings.filterwarnings('ignore')\n",
        "\n",
        "# Set plotting style\n",
        "plt.style.use('default')\n",
        "sns.set_palette(\"husl\")\n",
        "\n",
        "print(\"📚 Libraries imported successfully!\")\n"
      ]
    }
  ],
  "metadata": {
    "language_info": {
      "name": "python"
    }
  },
  "nbformat": 4,
  "nbformat_minor": 2
}
