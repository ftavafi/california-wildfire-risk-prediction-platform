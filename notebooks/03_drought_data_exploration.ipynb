{
  "cells": [
    {
      "cell_type": "markdown",
      "metadata": {},
      "source": [
        "# California Drought Data Exploration\n",
        "\n",
        "**Dataset**: US Drought Monitor - California  \n",
        "**Date Range**: 2000 - 2025  \n",
        "**Source**: [US Drought Monitor](https://droughtmonitor.unl.edu/)\n",
        "\n",
        "**Objective**: \n",
        "- Explore drought severity patterns in California\n",
        "- Analyze drought conditions during January 2025 fires\n",
        "- Understand long-term drought cycles\n",
        "- Identify drought-based features for fire prediction model\n"
      ]
    },
    {
      "cell_type": "markdown",
      "metadata": {},
      "source": [
        "## Why Drought Data Matters for Fire Prediction\n",
        "\n",
        "Drought is a long-term drying process that creates fundamental conditions for catastrophic wildfires. Unlike daily weather, drought represents sustained moisture deficits.\n",
        "\n",
        "**1. Fuel Moisture Depletion**: Progressive drying reduces vegetation moisture over weeks/months. Severe drought means critically dry fuels.\n",
        "\n",
        "**2. Long-Term Risk Indicator**: Drought observable weeks/months before fires, providing early warning.\n",
        "\n",
        "**3. California Drought Cycles**: Multi-year droughts (2012-2016) preceded massive fire seasons. Mediterranean climate with natural dry summers.\n",
        "\n",
        "**4. Cumulative Effect**: Each drought week compounds fire risk. D2+ drought = high fire danger.\n",
        "\n",
        "**5. Synergy with Weather**: Drought + Heat + Wind = Extreme conditions (January 2025 scenario).\n",
        "\n",
        "**Key Insight**: January 2025 fires followed months of below-normal rainfall. Tracking drought severity predicts when fuels reach critically low moisture.\n"
      ]
    },
    {
      "cell_type": "markdown",
      "metadata": {},
      "source": [
        "### Dataset Features Explained\n",
        "\n",
        "#### Drought Severity Categories (Categorical Features):\n",
        "\n",
        "| Feature | Type | Values | Meaning | Fire Risk Impact |\n",
        "|---------|------|--------|---------|------------------|\n",
        "| **None** | Categorical | 0-100% | Percent of area with NO drought | Safe - Normal fuel moisture |\n",
        "| **D0** | Categorical | 0-100% | Abnormally Dry | **Low** - Fuels starting to dry, minor stress |\n",
        "| **D1** | Categorical | 0-100% | Moderate Drought | **Moderate** - Vegetation stress, reduced moisture |\n",
        "| **D2** | Categorical | 0-100% | Severe Drought | **High** - Critically dry fuels, fire danger |\n",
        "| **D3** | Categorical | 0-100% | Extreme Drought | **Very High** - Explosive fire potential |\n",
        "| **D4** | Categorical | 0-100% | Exceptional Drought | **Extreme** - Catastrophic fire conditions |\n",
        "\n",
        "**Value Interpretation**:\n",
        "- Each value represents the **percentage of California's area** in that drought category for that week\n",
        "- Example: D2 = 45% means 45% of California is experiencing Severe Drought\n",
        "- Values sum to approximately 100% across all categories (None + D0 + D1 + D2 + D3 + D4)\n",
        "\n",
        "#### Temporal Features:\n",
        "\n",
        "| Feature | Type | Format | Meaning |\n",
        "|---------|------|--------|---------|\n",
        "| **ValidStart** | Date | YYYY-MM-DD | Start date of drought measurement week |\n",
        "| **ValidEnd** | Date | YYYY-MM-DD | End date of drought measurement week |\n",
        "| **MapDate** | Date | YYYYMMDD | Date drought map was released |\n",
        "\n",
        "**Frequency**: Weekly measurements (every Tuesday)\n",
        "\n",
        "#### Geographic Features:\n",
        "\n",
        "| Feature | Type | Values | Meaning |\n",
        "|---------|------|--------|---------|\n",
        "| **FIPS** | Categorical | 06 | Federal Information Processing Standard code for California |\n",
        "| **State** | Categorical | CA | State abbreviation |\n",
        "| **County** | Categorical | Name | County name (if county-level data) |\n",
        "\n",
        "#### Derived Features for ML Model:\n",
        "\n",
        "From this drought data, we can create powerful predictive features:\n",
        "\n",
        "1. **Current Drought Level** = Highest active drought category (D0-D4)\n",
        "2. **Drought Intensity Score** = Weighted sum (D1×1 + D2×2 + D3×3 + D4×4)\n",
        "3. **Weeks in Drought** = Consecutive weeks with D1+ drought\n",
        "4. **Drought Trend** = Is drought worsening or improving?\n",
        "5. **Severe Drought Area** = % of area in D2+ (critical threshold)\n",
        "6. **Drought Duration** = How many months of sustained drought\n",
        "7. **Seasonal Drought Pattern** = Drought level by season\n",
        "8. **Multi-year Drought Indicator** = Drought persisting across years\n",
        "\n",
        "#### Data Source Details:\n",
        "- **Agency**: National Drought Mitigation Center (University of Nebraska-Lincoln)\n",
        "- **URL**: [Drought Monitor Data](https://droughtmonitor.unl.edu/DmData/DataDownload.aspx)\n",
        "- **Methodology**: Based on precipitation, temperature, soil moisture, streamflow, and vegetation health indices\n",
        "- **Update Frequency**: Weekly (every Thursday)\n",
        "- **Reliability**: Used by USDA, NOAA, and federal agencies for drought assessment\n"
      ]
    },
    {
      "cell_type": "code",
      "execution_count": null,
      "metadata": {},
      "outputs": [],
      "source": [
        "# Import libraries\n",
        "import pandas as pd\n",
        "import matplotlib.pyplot as plt\n",
        "import seaborn as sns\n",
        "from pathlib import Path\n",
        "import warnings\n",
        "warnings.filterwarnings('ignore')\n",
        "\n",
        "pd.set_option('display.max_columns', None)\n",
        "sns.set_style('whitegrid')\n",
        "plt.rcParams['figure.figsize'] = (14, 6)\n",
        "\n",
        "print(\"✅ Libraries imported!\")\n"
      ]
    },
    {
      "cell_type": "markdown",
      "metadata": {},
      "source": [
        "## 1. Load Drought Data\n"
      ]
    },
    {
      "cell_type": "code",
      "execution_count": null,
      "metadata": {},
      "outputs": [],
      "source": [
        "# Load drought data\n",
        "drought_file = Path('../data/raw/drought/california_drought_2000_2025.csv')\n",
        "\n",
        "print(f\"Loading drought data from: {drought_file}\")\n",
        "print(f\"File exists: {drought_file.exists()}\")\n",
        "\n",
        "drought_df = pd.read_csv(drought_file)\n",
        "print(f\"\\n✅ Loaded {len(drought_df):,} weekly drought records!\")\n",
        "print(f\"\\nColumns: {drought_df.columns.tolist()}\")\n",
        "print(f\"\\nFirst 5 records:\")\n",
        "drought_df.head()\n"
      ]
    },
    {
      "cell_type": "markdown",
      "metadata": {},
      "source": [
        "# California Drought Data Exploration\n",
        "\n",
        "**Dataset**: US Drought Monitor - California  \n",
        "**Date Range**: 2000 - 2025  \n",
        "**Source**: [US Drought Monitor](https://droughtmonitor.unl.edu/)\n",
        "\n",
        "**Objective**: \n",
        "- Explore drought severity patterns in California\n",
        "- Analyze drought conditions during January 2025 fires\n",
        "- Understand long-term drought cycles\n",
        "- Identify drought-based features for fire prediction model\n"
      ]
    },
    {
      "cell_type": "markdown",
      "metadata": {},
      "source": [
        "## Why Drought Data Matters for Fire Prediction\n",
        "\n",
        "Drought is a long-term drying process that creates fundamental conditions for catastrophic wildfires. Unlike daily weather, drought represents sustained moisture deficits over weeks, months, or years.\n",
        "\n",
        "**1. Fuel Moisture Depletion**: Progressive drying reduces vegetation moisture. Severe drought means critically dry fuels ready to ignite.\n",
        "\n",
        "**2. Drought Categories**: D0 (Abnormally Dry) to D4 (Exceptional Drought) - each level indicates increasing fire risk.\n",
        "\n",
        "**3. Predictive Lead Time**: Drought conditions observable weeks/months before fires, providing early warning signals.\n",
        "\n",
        "**4. California Patterns**: Mediterranean climate with natural dry summers, but multi-year droughts worsen fire risk dramatically.\n",
        "\n",
        "**5. Synergy with Weather**: Drought + Heat Wave + Wind = Extreme fire danger (January 2025 scenario).\n",
        "\n",
        "**Key Insight**: January 2025 fires followed months of below-normal winter rainfall. Tracking drought severity (D0-D4) helps predict when fuels reach critically low moisture - the fundamental precondition for large fires.\n"
      ]
    },
    {
      "cell_type": "code",
      "execution_count": null,
      "metadata": {},
      "outputs": [],
      "source": [
        "# Import libraries\n",
        "import pandas as pd\n",
        "import matplotlib.pyplot as plt\n",
        "import seaborn as sns\n",
        "from pathlib import Path\n",
        "import warnings\n",
        "warnings.filterwarnings('ignore')\n",
        "\n",
        "# Set display options\n",
        "pd.set_option('display.max_columns', None)\n",
        "pd.set_option('display.max_rows', 100)\n",
        "\n",
        "# Set plotting style\n",
        "sns.set_style('whitegrid')\n",
        "plt.rcParams['figure.figsize'] = (14, 6)\n",
        "\n",
        "print(\"✅ Libraries imported successfully!\")\n"
      ]
    }
  ],
  "metadata": {
    "language_info": {
      "name": "python"
    }
  },
  "nbformat": 4,
  "nbformat_minor": 2
}
